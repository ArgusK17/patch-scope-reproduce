{
 "cells": [
  {
   "cell_type": "code",
   "execution_count": 2,
   "metadata": {},
   "outputs": [
    {
     "name": "stdout",
     "output_type": "stream",
     "text": [
      "gpua800n09\n"
     ]
    },
    {
     "name": "stderr",
     "output_type": "stream",
     "text": [
      "Loading checkpoint shards:   0%|          | 0/2 [00:00<?, ?it/s]/gpfs/share/home/2201110046/.conda/llama/lib/python3.9/site-packages/torch/_utils.py:831: UserWarning: TypedStorage is deprecated. It will be removed in the future and UntypedStorage will be the only storage class. This should only matter to you if you are using storages directly.  To access UntypedStorage directly, use tensor.untyped_storage() instead of tensor.storage()\n",
      "  return self.fget.__get__(instance, owner)()\n",
      "Loading checkpoint shards: 100%|██████████| 2/2 [00:17<00:00,  8.65s/it]\n"
     ]
    }
   ],
   "source": [
    "!hostname\n",
    "\n",
    "from transformers import LlamaForCausalLM, LlamaTokenizer, GenerationConfig\n",
    "import transformers\n",
    "import torch\n",
    "torch.set_grad_enabled(False)\n",
    "\n",
    "path=\"/gpfs/share/home/2201110046/LLM/llama_hf/7b\"\n",
    "\n",
    "tokenizer = LlamaTokenizer.from_pretrained(path, padding_side='left')\n",
    "tokenizer.pad_token = tokenizer.eos_token\n",
    "\n",
    "model = LlamaForCausalLM.from_pretrained(path, device_map=\"cuda\")"
   ]
  },
  {
   "cell_type": "code",
   "execution_count": 17,
   "metadata": {},
   "outputs": [
    {
     "data": {
      "text/plain": [
       "<module 'tools.patch_scope' from '/gpfs/share/home/2201110046/patch-scope-reproduce/tools/patch_scope.py'>"
      ]
     },
     "execution_count": 17,
     "metadata": {},
     "output_type": "execute_result"
    }
   ],
   "source": [
    "import importlib\n",
    "from tools import inference\n",
    "importlib.reload(inference)\n",
    "from tools import utils\n",
    "importlib.reload(utils)\n",
    "from tools import patch_scope\n",
    "importlib.reload(patch_scope)"
   ]
  },
  {
   "cell_type": "code",
   "execution_count": 28,
   "metadata": {},
   "outputs": [
    {
     "name": "stdout",
     "output_type": "stream",
     "text": [
      "[['<s>', 'Amazon', \"'\", 's', 'former', 'CE', 'O', 'attended', 'O', 'sc', 'ars']]\n",
      "['hello;']\n"
     ]
    }
   ],
   "source": [
    "from tools.utils import extract_hidden, break2tokens\n",
    "from tools.patch_scope import patch_scope\n",
    "from tools.inference import forward\n",
    "\n",
    "prompts=[\"Amazon's former CEO attended Oscars\"]\n",
    "print(break2tokens(tokenizer,prompts))\n",
    "outputs=forward(model, tokenizer, prompts, with_hiddens=True)\n",
    "hiddens=extract_hidden(outputs, token_pos=6, layer_id=7)\n",
    "\n",
    "result=patch_scope(model, tokenizer, hiddens, \n",
    "    target_prompt = 'cat->cat; 135->135; hello->hello; ?->', \n",
    "    target_token_id = -2,\n",
    "    target_layer_id = 7,\n",
    "    gen_len = 2)\n",
    "print(result)"
   ]
  },
  {
   "cell_type": "code",
   "execution_count": 30,
   "metadata": {},
   "outputs": [
    {
     "name": "stdout",
     "output_type": "stream",
     "text": [
      "[['<s>', 'le', 'mon', '->', 'yellow', ',', 'gra', 'pe', '->', 'pur', 'ple', ',', 'app', 'les', '->']]\n",
      "['app;']\n"
     ]
    }
   ],
   "source": [
    "prompts=[\"lemon->yellow, grape->purple, apples->\"]\n",
    "print(break2tokens(tokenizer,prompts))\n",
    "outputs=forward(model, tokenizer, prompts, with_hiddens=True)\n",
    "hiddens=extract_hidden(outputs, token_pos=12, layer_id=7)\n",
    "\n",
    "result=patch_scope(model, tokenizer, hiddens, \n",
    "    target_prompt = 'cat->cat; 135->135; hello->hello; ?->', \n",
    "    target_token_id = -2,\n",
    "    target_layer_id = 7,\n",
    "    gen_len = 1)\n",
    "print(result)"
   ]
  }
 ],
 "metadata": {
  "kernelspec": {
   "display_name": "Python (llama)",
   "language": "python",
   "name": "llama"
  },
  "language_info": {
   "codemirror_mode": {
    "name": "ipython",
    "version": 3
   },
   "file_extension": ".py",
   "mimetype": "text/x-python",
   "name": "python",
   "nbconvert_exporter": "python",
   "pygments_lexer": "ipython3",
   "version": "3.9.18"
  }
 },
 "nbformat": 4,
 "nbformat_minor": 2
}
